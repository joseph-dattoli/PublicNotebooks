{
 "cells": [
  {
   "cell_type": "code",
   "execution_count": null,
   "id": "311d7448",
   "metadata": {},
   "outputs": [],
   "source": [
    "import pandas as pd\n",
    "import numpy as np\n",
    "from pybaseball import statcast\n",
    "from datetime import datetime\n",
    "import os\n",
    "import pickle"
   ]
  },
  {
   "cell_type": "code",
   "execution_count": null,
   "id": "c3a8ca22",
   "metadata": {},
   "outputs": [],
   "source": [
    "#You can run this notebook for any year, just be sure to change the dates in this cell\n",
    "\n",
    "#get statcast data\n",
    "#data_15 = statcast(\"2015-01-01\",\"2015-12-31\")\n",
    "#data_16 = statcast(\"2016-01-01\",\"2016-12-31\")\n",
    "#data_17 = statcast(\"2017-01-01\",\"2017-12-31\")\n",
    "#data_18 = statcast(\"2018-01-01\",\"2018-12-31\")\n",
    "#data_19 = statcast(\"2019-01-01\",\"2019-12-31\")\n",
    "#data_21 = statcast(\"2021-01-01\",\"2021-12-31\")\n",
    "\n",
    "\n",
    "\n"
   ]
  },
  {
   "cell_type": "code",
   "execution_count": null,
   "id": "f1ed5a59",
   "metadata": {},
   "outputs": [],
   "source": [
    "eco = {'0-0-0':0.0,'1-0-0':0.0,'0-1-0':0.0,'2-0-0':0.0,'0-2-0':0.0,'1-1-0':0.0\n",
    "                      ,'3-0-0':0.0,'2-1-0':0.0,'1-2-0':0.0,'2-2-0':0.0,'3-1-0':0.0,'3-2-0':0.0,\n",
    "                      '0-0-1':0.0,'1-0-1':0.0,'0-1-1':0.0,'2-0-1':0.0,'0-2-1':0.0,'1-1-1':0.0\n",
    "                      ,'3-0-1':0.0,'2-1-1':0.0,'1-2-1':0.0,'2-2-1':0.0,'3-1-1':0.0,'3-2-1':0.0,\n",
    "                      '0-0-2':0.0,'1-0-2':0.0,'0-1-2':0.0,'2-0-2':0.0,'0-2-2':0.0,'1-1-2':0.0\n",
    "                      ,'3-0-2':0.0,'2-1-2':0.0,'1-2-2':0.0,'2-2-2':0.0,'3-1-2':0.0,'3-2-2':0.0}\n",
    "    \n",
    "class RunValueMatrix:     \n",
    "    \n",
    "    def __init__(self):\n",
    "        self.occurances = {'0-0-0':eco.copy(),'0-0-1':eco.copy(),'0-1-0':eco.copy(),'1-0-0':eco.copy(),'0-1-1':eco.copy(),'1-0-1':eco.copy(),'1-1-0':eco.copy(),'1-1-1':eco.copy()}\n",
    "        self.runs_to_end = {'0-0-0':eco.copy(),'0-0-1':eco.copy(),'0-1-0':eco.copy(),'1-0-0':eco.copy(),'0-1-1':eco.copy(),'1-0-1':eco.copy(),'1-1-0':eco.copy(),'1-1-1':eco.copy()}\n",
    "        self.run_expectency = {'0-0-0':eco.copy(),'0-0-1':eco.copy(),'0-1-0':eco.copy(),'1-0-0':eco.copy(),'0-1-1':eco.copy(),'1-0-1':eco.copy(),'1-1-0':eco.copy(),'1-1-1':eco.copy()}\n",
    "    \n",
    "        \n",
    "    \n",
    "    def update_occ_runs(self,base,count_outs,runs):\n",
    "        self.occurances[base][count_outs] = self.occurances[base][count_outs] +  1.0 \n",
    "        self.runs_to_end[base][count_outs] = self.runs_to_end[base][count_outs] + float(runs)\n",
    "        self.run_expectency[base][count_outs] = self.runs_to_end[base][count_outs]/self.occurances[base][count_outs]\n",
    "        \n",
    "    \n",
    "    def get_rexp_frame(self):\n",
    "        s = pd.DataFrame.from_records(data=[self.run_expectency[col] for col in self.run_expectency.keys()])\n",
    "        s['base_state'] = self.run_expectency.keys()\n",
    "        s.set_index('base_state', inplace=True)\n",
    "        self.run_expectency_dataframe = s\n",
    "        return s\n",
    "        "
   ]
  },
  {
   "cell_type": "code",
   "execution_count": null,
   "id": "66ab765f",
   "metadata": {},
   "outputs": [],
   "source": [
    "def is_nan(val):\n",
    "    return 0 if pd.isna(val) else 1\n",
    "\n"
   ]
  },
  {
   "cell_type": "code",
   "execution_count": null,
   "id": "470c4e7e",
   "metadata": {},
   "outputs": [],
   "source": [
    "def score_game_re288(game,runvaluematrix):\n",
    "    t = game[['inning', 'inning_topbot']].drop_duplicates().sort_values(by=['inning', 'inning_topbot'], ascending =[True,False]).reset_index(drop=True)\n",
    "    for i in t.index:\n",
    "        inning_frame = game.loc[(game['inning'] == t.iloc[i]['inning']) & \n",
    "                                  (game['inning_topbot'] == t.iloc[i]['inning_topbot'])].sort_values(by=['at_bat_number', 'pitch_number'], ascending =[True,True]).reset_index(drop = True)\n",
    "        for j in inning_frame.index:\n",
    "            count_out = f\"{inning_frame.iloc[j]['balls']}-{inning_frame.iloc[j]['strikes']}-{inning_frame.iloc[j]['outs_when_up']}\"\n",
    "            base = f\"{is_nan(inning_frame.iloc[j]['on_3b'])}-{is_nan(inning_frame.iloc[j]['on_2b'])}-{is_nan(inning_frame.iloc[j]['on_1b'])}\"\n",
    "            runs_to_end = max(inning_frame.loc[inning_frame.index >= j]['bat_score']) - inning_frame.iloc[ j]['bat_score']\n",
    "            try:\n",
    "                runvaluematrix.update_occ_runs(base,count_out,runs_to_end)\n",
    "            except KeyError as e:\n",
    "                print(e)\n",
    "                continue\n",
    "                \n",
    "            \n",
    "def score_year_re288(year,matrix):\n",
    "    i = 0\n",
    "    game_pks = pd.unique(year.game_pk)\n",
    "    for game in game_pks:\n",
    "        i+=1 \n",
    "        if round(i/len(game_pks) * 100) % 20 == 0:\n",
    "            print(i/len(game_pks) * 100)\n",
    "        game_frame = year.loc[year['game_pk']==game]\n",
    "        score_game_re288(game_frame,matrix)\n",
    "\n",
    "\n",
    "    "
   ]
  },
  {
   "cell_type": "code",
   "execution_count": null,
   "id": "79f9a8bd",
   "metadata": {},
   "outputs": [],
   "source": [
    "def get_year_run_exp(year):\n",
    "    data = statcast(f\"{year}-01-01\",f\"{year}-12-31\")\n",
    "    data = pd.DataFrame(data)[['game_pk','bat_score','balls', 'strikes','outs_when_up','on_3b', 'on_2b', 'on_1b','at_bat_number','pitch_number','inning', 'inning_topbot']]\n",
    "    matrix = RunValueMatrix()\n",
    "    score_year_re288(data,matrix)\n",
    "    return matrix"
   ]
  },
  {
   "cell_type": "code",
   "execution_count": null,
   "id": "776fe8e4",
   "metadata": {},
   "outputs": [],
   "source": [
    "run_exp ={}\n",
    "for x in [2015,2016,2017,2018,2019,2021]:\n",
    "    run_exp[x] = get_year_run_exp(x)\n",
    "    \n",
    "#this took a while to run, so I ran it overnight and saved the objects in a pickled file to pick back up later\n",
    "with open('run_expectency.txt','wb') as retext:\n",
    "    pickle.dump(run_exp,retext)\n",
    "    \n",
    "\n",
    "    \n",
    "    "
   ]
  },
  {
   "cell_type": "code",
   "execution_count": null,
   "id": "4505a51e",
   "metadata": {},
   "outputs": [],
   "source": [
    "#a day later and here we unpickle our progress. Had a realization that I just want the dataframes soooooo....\n",
    "unpickle = pickle.load(open('run_expectency.txt','rb'))\n",
    "for year in  [2015,2016,2017,2018,2019,2021]:\n",
    "    unpickle[year] = unpickle[year].get_rexp_frame()\n",
    "    \n",
    "    \n",
    "with open('run_expectency_frames.txt','wb') as retext:\n",
    "    pickle.dump(unpickle,retext)\n"
   ]
  },
  {
   "cell_type": "code",
   "execution_count": null,
   "id": "3bd5cae3",
   "metadata": {},
   "outputs": [],
   "source": [
    "frame_pickled= pickle.load(open('run_expectency_frames.txt','rb'))\n",
    "frame_pickled[2021].style"
   ]
  },
  {
   "cell_type": "code",
   "execution_count": null,
   "id": "174212fe",
   "metadata": {},
   "outputs": [],
   "source": []
  }
 ],
 "metadata": {
  "kernelspec": {
   "display_name": "Python 3 (ipykernel)",
   "language": "python",
   "name": "python3"
  },
  "language_info": {
   "codemirror_mode": {
    "name": "ipython",
    "version": 3
   },
   "file_extension": ".py",
   "mimetype": "text/x-python",
   "name": "python",
   "nbconvert_exporter": "python",
   "pygments_lexer": "ipython3",
   "version": "3.10.6"
  }
 },
 "nbformat": 4,
 "nbformat_minor": 5
}
