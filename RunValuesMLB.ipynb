{
 "cells": [
  {
   "cell_type": "code",
   "execution_count": null,
   "id": "42db0ec6",
   "metadata": {},
   "outputs": [],
   "source": [
    "import numpy as np\n",
    "import pandas as pd\n",
    "from pybaseball import statcast\n",
    "from datetime import datetime\n",
    "import os\n",
    "import pickle"
   ]
  },
  {
   "cell_type": "code",
   "execution_count": null,
   "id": "580be391",
   "metadata": {},
   "outputs": [],
   "source": [
    "def is_nan(val):\n",
    "    return 0 if pd.isna(val) else 1\n",
    "def get_year_pitches(year):\n",
    "    data = statcast(f\"{year}-01-01\",f\"{year}-12-31\")\n",
    "    return data\n",
    "    \n",
    "def score_game_re288(game,matrix_frame):\n",
    "    innings = []\n",
    "    t = game[['inning', 'inning_topbot']].drop_duplicates().sort_values(by=['inning', 'inning_topbot'], ascending =[True,False]).reset_index(drop=True)\n",
    "    for i in t.index:\n",
    "        inning_frame = game.loc[(game['inning'] == t.iloc[i]['inning']) & \n",
    "                                  (game['inning_topbot'] == t.iloc[i]['inning_topbot'])].sort_values(by=['at_bat_number', 'pitch_number'], ascending =[True,True]).reset_index(drop = True)\n",
    "        for j in inning_frame.index:\n",
    "            try:\n",
    "                initial_state = (f\"{is_nan(inning_frame.iloc[j]['on_3b'])}-{is_nan(inning_frame.iloc[j]['on_2b'])}-{is_nan(inning_frame.iloc[j]['on_1b'])}\"\n",
    "                    ,f\"{inning_frame.iloc[j]['balls']}-{inning_frame.iloc[j]['strikes']}-{inning_frame.iloc[j]['outs_when_up']}\")\n",
    "                initial_exp = matrix_frame.loc[initial_state[0],initial_state[1]]\n",
    "                if j >= max(inning_frame.index):\n",
    "                    final_state = (\"0-0-0\",\"0-0-3\")\n",
    "                    final_exp = 0\n",
    "                else:\n",
    "                    final_state = (f\"{is_nan(inning_frame.iloc[j+1]['on_3b'])}-{is_nan(inning_frame.iloc[j+1]['on_2b'])}-{is_nan(inning_frame.iloc[j+1]['on_1b'])}\"\n",
    "                    ,f\"{inning_frame.iloc[j+1]['balls']}-{inning_frame.iloc[j+1]['strikes']}-{inning_frame.iloc[j+1]['outs_when_up']}\") \n",
    "                    final_exp = matrix_frame.loc[final_state[0],final_state[1]]\n",
    "            except KeyError:\n",
    "                continue\n",
    "            inning_frame.loc[j,'run_exp'] = final_exp - initial_exp\n",
    "        innings.append(inning_frame)\n",
    "    edited_game_frame = pd.concat(innings, ignore_index = True)\n",
    "    return edited_game_frame\n",
    "            \n",
    "                \n",
    "            \n",
    "def score_year_re288(year,matrix_frame):\n",
    "    i = 0\n",
    "    game_pks = pd.unique(year.game_pk)\n",
    "    concat_frame = pd.DataFrame()\n",
    "    for game in game_pks:\n",
    "        i+=1 \n",
    "        if round(i/len(game_pks) * 100) % 20 == 0:\n",
    "            print(i/len(game_pks) * 100)\n",
    "        game_frame = year.loc[year['game_pk']==game]\n",
    "        game_scored = score_game_re288(game_frame,matrix_frame)\n",
    "        concat_frame = pd.concat([concat_frame,game_scored],ignore_index = True)\n",
    "    return concat_frame\n",
    "        "
   ]
  },
  {
   "cell_type": "code",
   "execution_count": null,
   "id": "bc17a86e",
   "metadata": {},
   "outputs": [],
   "source": [
    "frame_pickled= pickle.load(open('run_expectency_frames.txt','rb'))\n",
    "\n",
    "run_exp ={}\n",
    "for x in [2015,2016,2017,2018,2019,2021]:\n",
    "    run_exp[x] = score_year_re288(get_year_pitches(x),frame_pickled[x])\n",
    "    \n",
    "    \n",
    "#this took a while to run, so I ran it overnight and saved the objects in a pickled file to pick back up later\n",
    "with open('mlb_pitches_scored_re288.txt','wb') as retext:\n",
    "    pickle.dump(run_exp,retext)\n",
    "    \n"
   ]
  },
  {
   "cell_type": "code",
   "execution_count": null,
   "id": "1a869fc3-017e-49cd-bd93-20375974efbd",
   "metadata": {},
   "outputs": [],
   "source": [
    "with open('mlb_pitches_scored_re288.txt','wb') as retext:\n",
    "    pickle.dump(run_exp,retext)\n",
    "frame_pickled= pickle.load(open('mlb_pitches_scored_re288.txt','rb'))"
   ]
  },
  {
   "cell_type": "code",
   "execution_count": null,
   "id": "207b5bb9-efde-4d9e-88f3-eb00981fb7d6",
   "metadata": {},
   "outputs": [],
   "source": [
    "\n",
    "frame_pickled= pickle.load(open('mlb_pitches_scored_re288.txt','rb'))"
   ]
  },
  {
   "cell_type": "code",
   "execution_count": null,
   "id": "71cc6155-5709-4a55-882c-4e550c76a776",
   "metadata": {},
   "outputs": [],
   "source": [
    "frame_pickled[2021]"
   ]
  },
  {
   "cell_type": "code",
   "execution_count": null,
   "id": "9926f5be-6f37-41e6-bf52-df3597fa5609",
   "metadata": {},
   "outputs": [],
   "source": []
  }
 ],
 "metadata": {
  "kernelspec": {
   "display_name": "Python 3 (ipykernel)",
   "language": "python",
   "name": "python3"
  },
  "language_info": {
   "codemirror_mode": {
    "name": "ipython",
    "version": 3
   },
   "file_extension": ".py",
   "mimetype": "text/x-python",
   "name": "python",
   "nbconvert_exporter": "python",
   "pygments_lexer": "ipython3",
   "version": "3.10.6"
  },
  "toc-autonumbering": false,
  "toc-showcode": false,
  "toc-showmarkdowntxt": false,
  "toc-showtags": false
 },
 "nbformat": 4,
 "nbformat_minor": 5
}
